{
 "cells": [
  {
   "cell_type": "markdown",
   "metadata": {},
   "source": [
    "# Rescomp Data Analysis"
   ]
  },
  {
   "cell_type": "code",
   "execution_count": 3,
   "metadata": {},
   "outputs": [
    {
     "name": "stderr",
     "output_type": "stream",
     "text": [
      "--------------------------------------------------------------------------\n",
      "WARNING: There was an error initializing an OpenFabrics device.\n",
      "\n",
      "  Local host:   login04\n",
      "  Local device: mlx5_0\n",
      "--------------------------------------------------------------------------\n"
     ]
    }
   ],
   "source": [
    "import rescomp as rc\n",
    "import numpy as np\n",
    "from scipy.interpolate import CubicSpline\n",
    "from scipy import integrate, sparse\n",
    "from scipy.stats import pearsonr\n",
    "from scipy.sparse.linalg import eigs, ArpackNoConvergence\n",
    "from scipy.sparse import coo_matrix\n",
    "import math \n",
    "import networkx as nx\n",
    "import itertools\n",
    "import csv\n",
    "import time\n",
    "import matplotlib.pyplot as plt\n",
    "plt.rcParams[\"figure.figsize\"] = [20, 5]\n",
    "# Set seed for reproducibility\n",
    "np.random.seed(1)\n",
    "from math import comb\n",
    "import h5py\n",
    "from mpi4py import MPI\n",
    "from glob import glob\n",
    "from matplotlib import pyplot as plt\n",
    "import matplotlib"
   ]
  },
  {
   "cell_type": "code",
   "execution_count": 4,
   "metadata": {},
   "outputs": [],
   "source": [
    "results_path = '/home/seyfdall/compute/network_theory/thinned_rescomp/results/'"
   ]
  },
  {
   "cell_type": "code",
   "execution_count": 5,
   "metadata": {},
   "outputs": [],
   "source": [
    "def get_file_data(hdf5_file='results/erdos_results_0.h5'):\n",
    "    \"\"\"\n",
    "    \n",
    "    \"\"\"\n",
    "\n",
    "    with h5py.File(hdf5_file, 'r') as file:\n",
    "        vpt_thinned_list = []\n",
    "        div_pos_thinned_list = []\n",
    "        div_der_thinned_list = []\n",
    "        consistency_thinned_list = []\n",
    "\n",
    "        for group_name in file.keys():\n",
    "            group = file[group_name]\n",
    "            if 'mean_vpt_thinned' not in list(group.attrs):\n",
    "                continue\n",
    "            vpt_thinned_list.append(group.attrs['mean_vpt_thinned'])\n",
    "            div_pos_thinned_list.append(group.attrs['div_pos_thinned'])\n",
    "            div_der_thinned_list.append(group.attrs['div_der_thinned'])\n",
    "            consistency_thinned_list.append(group.attrs['mean_consistency_thinned'])\n",
    "            # print('{}, c: {}, vpt_connected: {}, p_thin: {}, vpt_thinned: {}'.format(group_name, c, vpt_connected, p_thin, vpt_thinned))\n",
    "        # print('vpt_connected_average: {}, vpt_thinned_average: {}'.format(np.mean(vpt_connected_list), np.mean(vpt_thinned_list)))\n",
    "        \n",
    "        mean_vpt = np.mean(vpt_thinned_list)\n",
    "        mean_div_pos = np.mean(div_pos_thinned_list)\n",
    "        mean_div_der = np.mean(div_der_thinned_list)\n",
    "        mean_consistency = np.mean(consistency_thinned_list)\n",
    "        print(f\"Number of draws successfully made for {hdf5_file}: {len(vpt_thinned_list)}\")\n",
    "        \n",
    "        return mean_vpt, mean_div_pos, mean_div_der, mean_consistency"
   ]
  },
  {
   "cell_type": "code",
   "execution_count": 11,
   "metadata": {},
   "outputs": [],
   "source": [
    "def get_system_data(p_thins, rhos, results_path=results_path):\n",
    "    \"\"\"\n",
    "    \n",
    "    \"\"\"\n",
    "    mean_vpts = np.zeros((len(rhos), len(p_thins)))\n",
    "    mean_pos_divs = np.zeros((len(rhos), len(p_thins)))\n",
    "    mean_der_divs = np.zeros((len(rhos), len(p_thins)))\n",
    "    mean_consistencies = np.zeros((len(rhos), len(p_thins)))\n",
    "\n",
    "    for i, rho in enumerate(rhos):\n",
    "        for j, p_thin in enumerate(p_thins):\n",
    "            hdf5_file = results_path + f\"erdos_results_rho={round(rho,2)}_p_thin={round(p_thin,2)}.h5\"\n",
    "            mean_vpts[i,j], mean_pos_divs[i,j], mean_der_divs[i,j], mean_consistencies[i,j] = get_file_data(hdf5_file=hdf5_file)\n",
    "            print(\"VPT\", mean_vpts[i,j])\n",
    "\n",
    "    return mean_vpts, mean_pos_divs, mean_der_divs, mean_consistencies"
   ]
  },
  {
   "cell_type": "code",
   "execution_count": 7,
   "metadata": {},
   "outputs": [],
   "source": [
    "def create_system_plot(values, ax, title):\n",
    "    \"\"\"\n",
    "    \n",
    "    \"\"\"\n",
    "    p_thins = np.concatenate((np.arange(0, 0.8, 0.1), np.arange(0.8, 1.01, 0.02)))\n",
    "    rhos = [0.1,0.9,1.0,1.1,2.0,5.0,10.0,25.0,50.0]\n",
    "\n",
    "    cmap = 'viridis'\n",
    "    norm = matplotlib.colors.Normalize(vmin=0, vmax=np.max(values[np.isfinite(values)]))\n",
    "    sm = matplotlib.cm.ScalarMappable(norm=norm, cmap=cmap)\n",
    "\n",
    "    X, Y = np.meshgrid(p_thins, rhos)\n",
    "    ax.pcolormesh(X, Y, values, shading='nearest', norm=norm, cmap=cmap)\n",
    "    \n",
    "    ax.set_title(title)\n",
    "    ax.set_xlabel('p_thin')\n",
    "    ax.set_ylabel('rho')\n",
    "    \n",
    "    plt.colorbar(mappable=sm, ax=ax)"
   ]
  },
  {
   "cell_type": "code",
   "execution_count": 8,
   "metadata": {},
   "outputs": [],
   "source": [
    "def create_plots():\n",
    "    fig, axs = plt.subplots(1,4, figsize=(14,3.2))\n",
    "    p_thins = np.concatenate((np.arange(0, 0.8, 0.1), np.arange(0.8, 1.01, 0.02)))\n",
    "    rhos = [0.1,0.9,1.0,1.1,2.0,5.0,10.0,25.0,50.0]\n",
    "    \n",
    "    mean_values = get_system_data(p_thins, rhos, results_path=results_path)\n",
    "    titles = ['VPT', 'Div_Pos', 'Div_Der', 'Consistency']\n",
    "\n",
    "    for i in range(len(mean_values)):\n",
    "        # print(mean_values[i])\n",
    "        create_system_plot(mean_values[i], axs[i], titles[i])\n",
    "    plt.tight_layout()\n",
    "    plt.show()"
   ]
  },
  {
   "cell_type": "markdown",
   "metadata": {},
   "source": [
    "### Analysis on c=4"
   ]
  },
  {
   "cell_type": "code",
   "execution_count": 9,
   "metadata": {},
   "outputs": [
    {
     "name": "stdout",
     "output_type": "stream",
     "text": [
      "Number of draws successfully made for /home/seyfdall/compute/network_theory/thinned_rescomp/results/erdos_results_rho=2.0_p_thin=0.1.h5: 35\n"
     ]
    },
    {
     "data": {
      "text/plain": [
       "(0.002285714285714237,\n",
       " 0.5308942254124952,\n",
       " 0.009543368828840226,\n",
       " 0.9641997854383579)"
      ]
     },
     "execution_count": 9,
     "metadata": {},
     "output_type": "execute_result"
    }
   ],
   "source": [
    "results_1_path = results_path + 'erdos_results_rho=2.0_p_thin=0.1.h5'\n",
    "get_file_data(hdf5_file=results_1_path)"
   ]
  },
  {
   "cell_type": "code",
   "execution_count": 12,
   "metadata": {},
   "outputs": [
    {
     "name": "stdout",
     "output_type": "stream",
     "text": [
      "Number of draws successfully made for /home/seyfdall/compute/network_theory/thinned_rescomp/results/erdos_results_rho=0.1_p_thin=0.0.h5: 36\n",
      "VPT 0.007222222222222167\n",
      "Number of draws successfully made for /home/seyfdall/compute/network_theory/thinned_rescomp/results/erdos_results_rho=0.1_p_thin=0.1.h5: 98\n",
      "VPT 0.0\n",
      "Number of draws successfully made for /home/seyfdall/compute/network_theory/thinned_rescomp/results/erdos_results_rho=0.1_p_thin=0.2.h5: 118\n",
      "VPT 0.003389830508474564\n",
      "Number of draws successfully made for /home/seyfdall/compute/network_theory/thinned_rescomp/results/erdos_results_rho=0.1_p_thin=0.3.h5: 147\n",
      "VPT 0.0010204081632652965\n",
      "Number of draws successfully made for /home/seyfdall/compute/network_theory/thinned_rescomp/results/erdos_results_rho=0.1_p_thin=0.4.h5: 36\n",
      "VPT 0.0\n",
      "Number of draws successfully made for /home/seyfdall/compute/network_theory/thinned_rescomp/results/erdos_results_rho=0.1_p_thin=0.5.h5: 95\n",
      "VPT 0.0\n",
      "Number of draws successfully made for /home/seyfdall/compute/network_theory/thinned_rescomp/results/erdos_results_rho=0.1_p_thin=0.6.h5: 104\n",
      "VPT 0.0\n",
      "Number of draws successfully made for /home/seyfdall/compute/network_theory/thinned_rescomp/results/erdos_results_rho=0.1_p_thin=0.7.h5: 225\n",
      "VPT 0.001955555555555577\n",
      "Number of draws successfully made for /home/seyfdall/compute/network_theory/thinned_rescomp/results/erdos_results_rho=0.1_p_thin=0.8.h5: 37\n",
      "VPT 0.0002702702702702165\n",
      "Number of draws successfully made for /home/seyfdall/compute/network_theory/thinned_rescomp/results/erdos_results_rho=0.1_p_thin=0.82.h5: 102\n",
      "VPT 0.00029411764705883467\n",
      "Number of draws successfully made for /home/seyfdall/compute/network_theory/thinned_rescomp/results/erdos_results_rho=0.1_p_thin=0.84.h5: 119\n",
      "VPT 0.0034453781512604757\n",
      "Number of draws successfully made for /home/seyfdall/compute/network_theory/thinned_rescomp/results/erdos_results_rho=0.1_p_thin=0.86.h5: 229\n",
      "VPT 0.00043668122270742977\n",
      "Number of draws successfully made for /home/seyfdall/compute/network_theory/thinned_rescomp/results/erdos_results_rho=0.1_p_thin=0.88.h5: 38\n",
      "VPT 0.0\n",
      "Number of draws successfully made for /home/seyfdall/compute/network_theory/thinned_rescomp/results/erdos_results_rho=0.1_p_thin=0.9.h5: 103\n",
      "VPT 0.001067961165048538\n",
      "Number of draws successfully made for /home/seyfdall/compute/network_theory/thinned_rescomp/results/erdos_results_rho=0.1_p_thin=0.92.h5: 105\n",
      "VPT 0.0013333333333333387\n",
      "Number of draws successfully made for /home/seyfdall/compute/network_theory/thinned_rescomp/results/erdos_results_rho=0.1_p_thin=0.94.h5: 162\n",
      "VPT 0.001666666666666686\n",
      "Number of draws successfully made for /home/seyfdall/compute/network_theory/thinned_rescomp/results/erdos_results_rho=0.1_p_thin=0.96.h5: 35\n",
      "VPT 0.0031428571428571265\n",
      "Number of draws successfully made for /home/seyfdall/compute/network_theory/thinned_rescomp/results/erdos_results_rho=0.1_p_thin=0.98.h5: 55\n",
      "VPT 0.003818181818181834\n",
      "Number of draws successfully made for /home/seyfdall/compute/network_theory/thinned_rescomp/results/erdos_results_rho=0.1_p_thin=1.0.h5: 0\n",
      "VPT nan\n",
      "Number of draws successfully made for /home/seyfdall/compute/network_theory/thinned_rescomp/results/erdos_results_rho=0.9_p_thin=0.0.h5: 114\n",
      "VPT 0.0005263157894737041\n",
      "Number of draws successfully made for /home/seyfdall/compute/network_theory/thinned_rescomp/results/erdos_results_rho=0.9_p_thin=0.1.h5: 32\n",
      "VPT 0.0\n",
      "Number of draws successfully made for /home/seyfdall/compute/network_theory/thinned_rescomp/results/erdos_results_rho=0.9_p_thin=0.2.h5: 99\n",
      "VPT 0.000606060606060629\n",
      "Number of draws successfully made for /home/seyfdall/compute/network_theory/thinned_rescomp/results/erdos_results_rho=0.9_p_thin=0.3.h5: 121\n",
      "VPT 0.0035537190082644606\n",
      "Number of draws successfully made for /home/seyfdall/compute/network_theory/thinned_rescomp/results/erdos_results_rho=0.9_p_thin=0.4.h5: 118\n",
      "VPT 0.0\n",
      "Number of draws successfully made for /home/seyfdall/compute/network_theory/thinned_rescomp/results/erdos_results_rho=0.9_p_thin=0.5.h5: 35\n",
      "VPT 0.0\n",
      "Number of draws successfully made for /home/seyfdall/compute/network_theory/thinned_rescomp/results/erdos_results_rho=0.9_p_thin=0.6.h5: 96\n",
      "VPT 0.0\n"
     ]
    },
    {
     "name": "stderr",
     "output_type": "stream",
     "text": [
      "/home/seyfdall/.conda/envs/reservoir/lib/python3.12/site-packages/numpy/core/fromnumeric.py:3504: RuntimeWarning: Mean of empty slice.\n",
      "  return _methods._mean(a, axis=axis, dtype=dtype,\n",
      "/home/seyfdall/.conda/envs/reservoir/lib/python3.12/site-packages/numpy/core/_methods.py:129: RuntimeWarning: invalid value encountered in scalar divide\n",
      "  ret = ret.dtype.type(ret / rcount)\n"
     ]
    },
    {
     "name": "stdout",
     "output_type": "stream",
     "text": [
      "Number of draws successfully made for /home/seyfdall/compute/network_theory/thinned_rescomp/results/erdos_results_rho=0.9_p_thin=0.7.h5: 90\n",
      "VPT 0.0\n",
      "Number of draws successfully made for /home/seyfdall/compute/network_theory/thinned_rescomp/results/erdos_results_rho=0.9_p_thin=0.8.h5: 27\n",
      "VPT 0.0\n",
      "Number of draws successfully made for /home/seyfdall/compute/network_theory/thinned_rescomp/results/erdos_results_rho=0.9_p_thin=0.82.h5: 38\n",
      "VPT 0.0\n",
      "Number of draws successfully made for /home/seyfdall/compute/network_theory/thinned_rescomp/results/erdos_results_rho=0.9_p_thin=0.84.h5: 33\n",
      "VPT 0.00696969696969709\n",
      "Number of draws successfully made for /home/seyfdall/compute/network_theory/thinned_rescomp/results/erdos_results_rho=0.9_p_thin=0.86.h5: 39\n",
      "VPT 0.0\n",
      "Number of draws successfully made for /home/seyfdall/compute/network_theory/thinned_rescomp/results/erdos_results_rho=0.9_p_thin=0.88.h5: 36\n",
      "VPT 0.0\n",
      "Number of draws successfully made for /home/seyfdall/compute/network_theory/thinned_rescomp/results/erdos_results_rho=0.9_p_thin=0.9.h5: 43\n",
      "VPT 0.0\n",
      "Number of draws successfully made for /home/seyfdall/compute/network_theory/thinned_rescomp/results/erdos_results_rho=0.9_p_thin=0.92.h5: 40\n",
      "VPT 0.0\n",
      "Number of draws successfully made for /home/seyfdall/compute/network_theory/thinned_rescomp/results/erdos_results_rho=0.9_p_thin=0.94.h5: 34\n",
      "VPT 0.0\n",
      "Number of draws successfully made for /home/seyfdall/compute/network_theory/thinned_rescomp/results/erdos_results_rho=0.9_p_thin=0.96.h5: 29\n",
      "VPT 0.005862068965517545\n",
      "Number of draws successfully made for /home/seyfdall/compute/network_theory/thinned_rescomp/results/erdos_results_rho=0.9_p_thin=0.98.h5: 39\n",
      "VPT 0.0\n",
      "Number of draws successfully made for /home/seyfdall/compute/network_theory/thinned_rescomp/results/erdos_results_rho=0.9_p_thin=1.0.h5: 0\n",
      "VPT nan\n",
      "Number of draws successfully made for /home/seyfdall/compute/network_theory/thinned_rescomp/results/erdos_results_rho=1.0_p_thin=0.0.h5: 55\n",
      "VPT 0.002909090909090976\n",
      "Number of draws successfully made for /home/seyfdall/compute/network_theory/thinned_rescomp/results/erdos_results_rho=1.0_p_thin=0.1.h5: 40\n",
      "VPT 0.0\n",
      "Number of draws successfully made for /home/seyfdall/compute/network_theory/thinned_rescomp/results/erdos_results_rho=1.0_p_thin=0.2.h5: 54\n",
      "VPT 0.0\n",
      "Number of draws successfully made for /home/seyfdall/compute/network_theory/thinned_rescomp/results/erdos_results_rho=1.0_p_thin=0.3.h5: 41\n",
      "VPT 0.0\n",
      "Number of draws successfully made for /home/seyfdall/compute/network_theory/thinned_rescomp/results/erdos_results_rho=1.0_p_thin=0.4.h5: 56\n",
      "VPT 0.0\n",
      "Number of draws successfully made for /home/seyfdall/compute/network_theory/thinned_rescomp/results/erdos_results_rho=1.0_p_thin=0.5.h5: 40\n",
      "VPT 0.0\n",
      "Number of draws successfully made for /home/seyfdall/compute/network_theory/thinned_rescomp/results/erdos_results_rho=1.0_p_thin=0.6.h5: 63\n",
      "VPT 0.00015873015873012715\n",
      "Number of draws successfully made for /home/seyfdall/compute/network_theory/thinned_rescomp/results/erdos_results_rho=1.0_p_thin=0.7.h5: 38\n",
      "VPT 0.003157894736842038\n",
      "Number of draws successfully made for /home/seyfdall/compute/network_theory/thinned_rescomp/results/erdos_results_rho=1.0_p_thin=0.8.h5: 53\n",
      "VPT 0.0018867924528302156\n",
      "Number of draws successfully made for /home/seyfdall/compute/network_theory/thinned_rescomp/results/erdos_results_rho=1.0_p_thin=0.82.h5: 35\n",
      "VPT 0.0\n",
      "Number of draws successfully made for /home/seyfdall/compute/network_theory/thinned_rescomp/results/erdos_results_rho=1.0_p_thin=0.84.h5: 76\n",
      "VPT 0.0\n",
      "Number of draws successfully made for /home/seyfdall/compute/network_theory/thinned_rescomp/results/erdos_results_rho=1.0_p_thin=0.86.h5: 42\n",
      "VPT 0.0\n",
      "Number of draws successfully made for /home/seyfdall/compute/network_theory/thinned_rescomp/results/erdos_results_rho=1.0_p_thin=0.88.h5: 83\n",
      "VPT 0.002530120481927721\n",
      "Number of draws successfully made for /home/seyfdall/compute/network_theory/thinned_rescomp/results/erdos_results_rho=1.0_p_thin=0.9.h5: 34\n",
      "VPT 0.001764705882353008\n"
     ]
    },
    {
     "ename": "OSError",
     "evalue": "Unable to synchronously open file (bad object header version number)",
     "output_type": "error",
     "traceback": [
      "\u001b[0;31m---------------------------------------------------------------------------\u001b[0m",
      "\u001b[0;31mOSError\u001b[0m                                   Traceback (most recent call last)",
      "Cell \u001b[0;32mIn[12], line 1\u001b[0m\n\u001b[0;32m----> 1\u001b[0m \u001b[43mcreate_plots\u001b[49m\u001b[43m(\u001b[49m\u001b[43m)\u001b[49m\n",
      "Cell \u001b[0;32mIn[8], line 6\u001b[0m, in \u001b[0;36mcreate_plots\u001b[0;34m()\u001b[0m\n\u001b[1;32m      3\u001b[0m p_thins \u001b[38;5;241m=\u001b[39m np\u001b[38;5;241m.\u001b[39mconcatenate((np\u001b[38;5;241m.\u001b[39marange(\u001b[38;5;241m0\u001b[39m, \u001b[38;5;241m0.8\u001b[39m, \u001b[38;5;241m0.1\u001b[39m), np\u001b[38;5;241m.\u001b[39marange(\u001b[38;5;241m0.8\u001b[39m, \u001b[38;5;241m1.01\u001b[39m, \u001b[38;5;241m0.02\u001b[39m)))\n\u001b[1;32m      4\u001b[0m rhos \u001b[38;5;241m=\u001b[39m [\u001b[38;5;241m0.1\u001b[39m,\u001b[38;5;241m0.9\u001b[39m,\u001b[38;5;241m1.0\u001b[39m,\u001b[38;5;241m1.1\u001b[39m,\u001b[38;5;241m2.0\u001b[39m,\u001b[38;5;241m5.0\u001b[39m,\u001b[38;5;241m10.0\u001b[39m,\u001b[38;5;241m25.0\u001b[39m,\u001b[38;5;241m50.0\u001b[39m]\n\u001b[0;32m----> 6\u001b[0m mean_values \u001b[38;5;241m=\u001b[39m \u001b[43mget_system_data\u001b[49m\u001b[43m(\u001b[49m\u001b[43mp_thins\u001b[49m\u001b[43m,\u001b[49m\u001b[43m \u001b[49m\u001b[43mrhos\u001b[49m\u001b[43m,\u001b[49m\u001b[43m \u001b[49m\u001b[43mresults_path\u001b[49m\u001b[38;5;241;43m=\u001b[39;49m\u001b[43mresults_path\u001b[49m\u001b[43m)\u001b[49m\n\u001b[1;32m      7\u001b[0m titles \u001b[38;5;241m=\u001b[39m [\u001b[38;5;124m'\u001b[39m\u001b[38;5;124mVPT\u001b[39m\u001b[38;5;124m'\u001b[39m, \u001b[38;5;124m'\u001b[39m\u001b[38;5;124mDiv_Pos\u001b[39m\u001b[38;5;124m'\u001b[39m, \u001b[38;5;124m'\u001b[39m\u001b[38;5;124mDiv_Der\u001b[39m\u001b[38;5;124m'\u001b[39m, \u001b[38;5;124m'\u001b[39m\u001b[38;5;124mConsistency\u001b[39m\u001b[38;5;124m'\u001b[39m]\n\u001b[1;32m      9\u001b[0m \u001b[38;5;28mprint\u001b[39m(\u001b[38;5;124m\"\u001b[39m\u001b[38;5;124mVPT\u001b[39m\u001b[38;5;124m\"\u001b[39m, mean_values[\u001b[38;5;241m0\u001b[39m])\n",
      "Cell \u001b[0;32mIn[11], line 13\u001b[0m, in \u001b[0;36mget_system_data\u001b[0;34m(p_thins, rhos, results_path)\u001b[0m\n\u001b[1;32m     11\u001b[0m     \u001b[38;5;28;01mfor\u001b[39;00m j, p_thin \u001b[38;5;129;01min\u001b[39;00m \u001b[38;5;28menumerate\u001b[39m(p_thins):\n\u001b[1;32m     12\u001b[0m         hdf5_file \u001b[38;5;241m=\u001b[39m results_path \u001b[38;5;241m+\u001b[39m \u001b[38;5;124mf\u001b[39m\u001b[38;5;124m\"\u001b[39m\u001b[38;5;124merdos_results_rho=\u001b[39m\u001b[38;5;132;01m{\u001b[39;00m\u001b[38;5;28mround\u001b[39m(rho,\u001b[38;5;241m2\u001b[39m)\u001b[38;5;132;01m}\u001b[39;00m\u001b[38;5;124m_p_thin=\u001b[39m\u001b[38;5;132;01m{\u001b[39;00m\u001b[38;5;28mround\u001b[39m(p_thin,\u001b[38;5;241m2\u001b[39m)\u001b[38;5;132;01m}\u001b[39;00m\u001b[38;5;124m.h5\u001b[39m\u001b[38;5;124m\"\u001b[39m\n\u001b[0;32m---> 13\u001b[0m         mean_vpts[i,j], mean_pos_divs[i,j], mean_der_divs[i,j], mean_consistencies[i,j] \u001b[38;5;241m=\u001b[39m \u001b[43mget_file_data\u001b[49m\u001b[43m(\u001b[49m\u001b[43mhdf5_file\u001b[49m\u001b[38;5;241;43m=\u001b[39;49m\u001b[43mhdf5_file\u001b[49m\u001b[43m)\u001b[49m\n\u001b[1;32m     14\u001b[0m         \u001b[38;5;28mprint\u001b[39m(\u001b[38;5;124m\"\u001b[39m\u001b[38;5;124mVPT\u001b[39m\u001b[38;5;124m\"\u001b[39m, mean_vpts[i,j])\n\u001b[1;32m     16\u001b[0m \u001b[38;5;28;01mreturn\u001b[39;00m mean_vpts, mean_pos_divs, mean_der_divs, mean_consistencies\n",
      "Cell \u001b[0;32mIn[5], line 6\u001b[0m, in \u001b[0;36mget_file_data\u001b[0;34m(hdf5_file)\u001b[0m\n\u001b[1;32m      1\u001b[0m \u001b[38;5;28;01mdef\u001b[39;00m \u001b[38;5;21mget_file_data\u001b[39m(hdf5_file\u001b[38;5;241m=\u001b[39m\u001b[38;5;124m'\u001b[39m\u001b[38;5;124mresults/erdos_results_0.h5\u001b[39m\u001b[38;5;124m'\u001b[39m):\n\u001b[1;32m      2\u001b[0m \u001b[38;5;250m    \u001b[39m\u001b[38;5;124;03m\"\"\"\u001b[39;00m\n\u001b[1;32m      3\u001b[0m \u001b[38;5;124;03m    \u001b[39;00m\n\u001b[1;32m      4\u001b[0m \u001b[38;5;124;03m    \"\"\"\u001b[39;00m\n\u001b[0;32m----> 6\u001b[0m     \u001b[38;5;28;01mwith\u001b[39;00m \u001b[43mh5py\u001b[49m\u001b[38;5;241;43m.\u001b[39;49m\u001b[43mFile\u001b[49m\u001b[43m(\u001b[49m\u001b[43mhdf5_file\u001b[49m\u001b[43m,\u001b[49m\u001b[43m \u001b[49m\u001b[38;5;124;43m'\u001b[39;49m\u001b[38;5;124;43mr\u001b[39;49m\u001b[38;5;124;43m'\u001b[39;49m\u001b[43m)\u001b[49m \u001b[38;5;28;01mas\u001b[39;00m file:\n\u001b[1;32m      7\u001b[0m         vpt_thinned_list \u001b[38;5;241m=\u001b[39m []\n\u001b[1;32m      8\u001b[0m         div_pos_thinned_list \u001b[38;5;241m=\u001b[39m []\n",
      "File \u001b[0;32m~/.conda/envs/reservoir/lib/python3.12/site-packages/h5py/_hl/files.py:562\u001b[0m, in \u001b[0;36mFile.__init__\u001b[0;34m(self, name, mode, driver, libver, userblock_size, swmr, rdcc_nslots, rdcc_nbytes, rdcc_w0, track_order, fs_strategy, fs_persist, fs_threshold, fs_page_size, page_buf_size, min_meta_keep, min_raw_keep, locking, alignment_threshold, alignment_interval, meta_block_size, **kwds)\u001b[0m\n\u001b[1;32m    553\u001b[0m     fapl \u001b[38;5;241m=\u001b[39m make_fapl(driver, libver, rdcc_nslots, rdcc_nbytes, rdcc_w0,\n\u001b[1;32m    554\u001b[0m                      locking, page_buf_size, min_meta_keep, min_raw_keep,\n\u001b[1;32m    555\u001b[0m                      alignment_threshold\u001b[38;5;241m=\u001b[39malignment_threshold,\n\u001b[1;32m    556\u001b[0m                      alignment_interval\u001b[38;5;241m=\u001b[39malignment_interval,\n\u001b[1;32m    557\u001b[0m                      meta_block_size\u001b[38;5;241m=\u001b[39mmeta_block_size,\n\u001b[1;32m    558\u001b[0m                      \u001b[38;5;241m*\u001b[39m\u001b[38;5;241m*\u001b[39mkwds)\n\u001b[1;32m    559\u001b[0m     fcpl \u001b[38;5;241m=\u001b[39m make_fcpl(track_order\u001b[38;5;241m=\u001b[39mtrack_order, fs_strategy\u001b[38;5;241m=\u001b[39mfs_strategy,\n\u001b[1;32m    560\u001b[0m                      fs_persist\u001b[38;5;241m=\u001b[39mfs_persist, fs_threshold\u001b[38;5;241m=\u001b[39mfs_threshold,\n\u001b[1;32m    561\u001b[0m                      fs_page_size\u001b[38;5;241m=\u001b[39mfs_page_size)\n\u001b[0;32m--> 562\u001b[0m     fid \u001b[38;5;241m=\u001b[39m \u001b[43mmake_fid\u001b[49m\u001b[43m(\u001b[49m\u001b[43mname\u001b[49m\u001b[43m,\u001b[49m\u001b[43m \u001b[49m\u001b[43mmode\u001b[49m\u001b[43m,\u001b[49m\u001b[43m \u001b[49m\u001b[43muserblock_size\u001b[49m\u001b[43m,\u001b[49m\u001b[43m \u001b[49m\u001b[43mfapl\u001b[49m\u001b[43m,\u001b[49m\u001b[43m \u001b[49m\u001b[43mfcpl\u001b[49m\u001b[43m,\u001b[49m\u001b[43m \u001b[49m\u001b[43mswmr\u001b[49m\u001b[38;5;241;43m=\u001b[39;49m\u001b[43mswmr\u001b[49m\u001b[43m)\u001b[49m\n\u001b[1;32m    564\u001b[0m \u001b[38;5;28;01mif\u001b[39;00m \u001b[38;5;28misinstance\u001b[39m(libver, \u001b[38;5;28mtuple\u001b[39m):\n\u001b[1;32m    565\u001b[0m     \u001b[38;5;28mself\u001b[39m\u001b[38;5;241m.\u001b[39m_libver \u001b[38;5;241m=\u001b[39m libver\n",
      "File \u001b[0;32m~/.conda/envs/reservoir/lib/python3.12/site-packages/h5py/_hl/files.py:235\u001b[0m, in \u001b[0;36mmake_fid\u001b[0;34m(name, mode, userblock_size, fapl, fcpl, swmr)\u001b[0m\n\u001b[1;32m    233\u001b[0m     \u001b[38;5;28;01mif\u001b[39;00m swmr \u001b[38;5;129;01mand\u001b[39;00m swmr_support:\n\u001b[1;32m    234\u001b[0m         flags \u001b[38;5;241m|\u001b[39m\u001b[38;5;241m=\u001b[39m h5f\u001b[38;5;241m.\u001b[39mACC_SWMR_READ\n\u001b[0;32m--> 235\u001b[0m     fid \u001b[38;5;241m=\u001b[39m \u001b[43mh5f\u001b[49m\u001b[38;5;241;43m.\u001b[39;49m\u001b[43mopen\u001b[49m\u001b[43m(\u001b[49m\u001b[43mname\u001b[49m\u001b[43m,\u001b[49m\u001b[43m \u001b[49m\u001b[43mflags\u001b[49m\u001b[43m,\u001b[49m\u001b[43m \u001b[49m\u001b[43mfapl\u001b[49m\u001b[38;5;241;43m=\u001b[39;49m\u001b[43mfapl\u001b[49m\u001b[43m)\u001b[49m\n\u001b[1;32m    236\u001b[0m \u001b[38;5;28;01melif\u001b[39;00m mode \u001b[38;5;241m==\u001b[39m \u001b[38;5;124m'\u001b[39m\u001b[38;5;124mr+\u001b[39m\u001b[38;5;124m'\u001b[39m:\n\u001b[1;32m    237\u001b[0m     fid \u001b[38;5;241m=\u001b[39m h5f\u001b[38;5;241m.\u001b[39mopen(name, h5f\u001b[38;5;241m.\u001b[39mACC_RDWR, fapl\u001b[38;5;241m=\u001b[39mfapl)\n",
      "File \u001b[0;32mh5py/_objects.pyx:54\u001b[0m, in \u001b[0;36mh5py._objects.with_phil.wrapper\u001b[0;34m()\u001b[0m\n",
      "File \u001b[0;32mh5py/_objects.pyx:55\u001b[0m, in \u001b[0;36mh5py._objects.with_phil.wrapper\u001b[0;34m()\u001b[0m\n",
      "File \u001b[0;32mh5py/h5f.pyx:102\u001b[0m, in \u001b[0;36mh5py.h5f.open\u001b[0;34m()\u001b[0m\n",
      "\u001b[0;31mOSError\u001b[0m: Unable to synchronously open file (bad object header version number)"
     ]
    },
    {
     "data": {
      "image/png": "[encoded data removed]",
      "text/plain": [
       "<Figure size 1400x320 with 4 Axes>"
      ]
     },
     "metadata": {},
     "output_type": "display_data"
    }
   ],
   "source": [
    "create_plots()"
   ]
  }
 ],
 "metadata": {
  "kernelspec": {
   "display_name": "reservoir",
   "language": "python",
   "name": "python3"
  },
  "language_info": {
   "codemirror_mode": {
    "name": "ipython",
    "version": 3
   },
   "file_extension": ".py",
   "mimetype": "text/x-python",
   "name": "python",
   "nbconvert_exporter": "python",
   "pygments_lexer": "ipython3",
   "version": "3.12.2"
  }
 },
 "nbformat": 4,
 "nbformat_minor": 2
}
