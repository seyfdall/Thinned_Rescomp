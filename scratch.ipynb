{
 "cells": [
  {
   "cell_type": "code",
   "execution_count": 1,
   "metadata": {},
   "outputs": [],
   "source": [
    "import numpy as np\n",
    "from scipy.interpolate import CubicSpline\n",
    "from scipy import integrate, sparse\n",
    "from scipy.stats import pearsonr\n",
    "from scipy.sparse.linalg import eigs, ArpackNoConvergence\n",
    "from scipy.sparse import coo_matrix\n",
    "import math \n",
    "import networkx as nx\n",
    "import itertools\n",
    "import csv\n",
    "import time\n",
    "import matplotlib.pyplot as plt\n",
    "plt.rcParams[\"figure.figsize\"] = [20, 5]\n",
    "# Set seed for reproducibility\n",
    "np.random.seed(1)\n",
    "from math import comb\n",
    "import h5py\n",
    "from mpi4py import MPI\n",
    "import traceback\n",
    "import logging\n",
    "import importlib\n",
    "import pandas as pd"
   ]
  },
  {
   "cell_type": "code",
   "execution_count": 2,
   "metadata": {},
   "outputs": [],
   "source": [
    "import sys\n",
    "import os\n",
    "sys.path.insert(0, os.path.abspath('/home/seyfdall/network_theory/rescomp/rescomp'))\n",
    "import ResComp\n",
    "import chaosode"
   ]
  },
  {
   "cell_type": "code",
   "execution_count": 3,
   "metadata": {},
   "outputs": [
    {
     "name": "stdout",
     "output_type": "stream",
     "text": [
      "['/home/seyfdall/network_theory/Thinned_Rescomp/utils', '/home/seyfdall/network_theory/rescomp/rescomp', '/home/seyfdall/.conda/envs/reservoir/lib/python313.zip', '/home/seyfdall/.conda/envs/reservoir/lib/python3.13', '/home/seyfdall/.conda/envs/reservoir/lib/python3.13/lib-dynload', '', '/home/seyfdall/.conda/envs/reservoir/lib/python3.13/site-packages']\n"
     ]
    }
   ],
   "source": [
    "sys.path.insert(0, os.path.abspath('/home/seyfdall/network_theory/Thinned_Rescomp/utils/'))\n",
    "print(sys.path)\n",
    "import helper\n",
    "import driver"
   ]
  },
  {
   "cell_type": "markdown",
   "metadata": {},
   "source": [
    "### Save Parameter Sets"
   ]
  },
  {
   "cell_type": "code",
   "execution_count": 5,
   "metadata": {},
   "outputs": [],
   "source": [
    "# Reservoir Computing Parameters\n",
    "parameters = {\n",
    "    'n': [50],\n",
    "    'erdos_renyi_c': [4],\n",
    "    'gamma': [0.1,0.5,1,2,5,10,25,50],\n",
    "    'sigma': [1e-3,5e-3,1e-2,5e-2,.14,.4,.7,1,10],\n",
    "    'alpha': [1e-8,1e-6,1e-4,1e-2,1]\n",
    "}\n",
    "\n",
    "# Convert to a DataFrame\n",
    "df = pd.DataFrame(dict([(k, pd.Series(v)) for k, v in parameters.items()]))\n",
    "# Save to CSV\n",
    "df.to_csv('./utils/param_sets/param_set_1', index=False)"
   ]
  },
  {
   "cell_type": "code",
   "execution_count": 8,
   "metadata": {},
   "outputs": [
    {
     "data": {
      "text/plain": [
       "{'n': [50.0],\n",
       " 'erdos_renyi_c': [4.0],\n",
       " 'gamma': [0.1, 0.5, 1.0, 2.0, 5.0, 10.0, 25.0, 50.0],\n",
       " 'sigma': [0.001, 0.005, 0.01, 0.05, 0.14, 0.4, 0.7, 1.0, 10.0],\n",
       " 'alpha': [1e-08, 1e-06, 0.0001, 0.01, 1.0],\n",
       " 'rhos': [1, 2, 3],\n",
       " 'p_thin': [0.1, 0.5, 0.9]}"
      ]
     },
     "execution_count": 8,
     "metadata": {},
     "output_type": "execute_result"
    }
   ],
   "source": [
    "df = pd.read_csv('./utils/param_sets/param_set_1')\n",
    "param_dict = {col: df[col].dropna().tolist() for col in df.columns}\n",
    "extra_dict = {\n",
    "    'rhos': [1,2,3],\n",
    "    'p_thin': [0.1,0.5,0.9]\n",
    "}\n",
    "combined_dict = param_dict | extra_dict\n",
    "combined_dict"
   ]
  },
  {
   "cell_type": "markdown",
   "metadata": {},
   "source": [
    "### Test File_io\n"
   ]
  },
  {
   "cell_type": "code",
   "execution_count": null,
   "metadata": {},
   "outputs": [
    {
     "name": "stdout",
     "output_type": "stream",
     "text": [
      "[Errno 2] Unable to synchronously open file (unable to open file: name = '/nobackup/autodelete/usr/seyfdall/network_theory/Thinned_Rescomp_results/gamma/15.0/param_set_1/_rho=2.0_p_thin=0.5.h5', errno = 2, error message = 'No such file or directory', flags = 0, o_flags = 0)\n"
     ]
    },
    {
     "name": "stderr",
     "output_type": "stream",
     "text": [
      "Traceback (most recent call last):\n",
      "  File \"/tmp/ipykernel_2726184/1422705763.py\", line 10, in <module>\n",
      "    file_handler.open_file('r')\n",
      "    ~~~~~~~~~~~~~~~~~~~~~~^^^^^\n",
      "  File \"/home/seyfdall/network_theory/Thinned_Rescomp/utils/file_io.py\", line 55, in open_file\n",
      "    self.file = h5py.File(self.file_path, mode)\n",
      "                ~~~~~~~~~^^^^^^^^^^^^^^^^^^^^^^\n",
      "  File \"/home/seyfdall/.conda/envs/reservoir/lib/python3.13/site-packages/h5py/_hl/files.py\", line 564, in __init__\n",
      "    fid = make_fid(name, mode, userblock_size, fapl, fcpl, swmr=swmr)\n",
      "  File \"/home/seyfdall/.conda/envs/reservoir/lib/python3.13/site-packages/h5py/_hl/files.py\", line 238, in make_fid\n",
      "    fid = h5f.open(name, flags, fapl=fapl)\n",
      "  File \"h5py/_objects.pyx\", line 56, in h5py._objects.with_phil.wrapper\n",
      "  File \"h5py/_objects.pyx\", line 57, in h5py._objects.with_phil.wrapper\n",
      "  File \"h5py/h5f.pyx\", line 102, in h5py.h5f.open\n",
      "FileNotFoundError: [Errno 2] Unable to synchronously open file (unable to open file: name = '/nobackup/autodelete/usr/seyfdall/network_theory/Thinned_Rescomp_results/gamma/15.0/param_set_1/_rho=2.0_p_thin=0.5.h5', errno = 2, error message = 'No such file or directory', flags = 0, o_flags = 0)\n"
     ]
    }
   ],
   "source": [
    "# import os\n",
    "# os.environ[\"HDF5_USE_FILE_LOCKING\"] = \"FALSE\"\n",
    "import traceback\n",
    "import importlib\n",
    "import file_io\n",
    "importlib.reload(file_io)\n",
    "\n",
    "file_handler = file_io.HDF5FileHandler('/nobackup/autodelete/usr/seyfdall/network_theory/Thinned_Rescomp/results/gamma/16.0/param_set_1/', rho=2.0, p_thin=0.5)\n",
    "try:\n",
    "    file_handler.open_file('r')\n",
    "    file_handler.load_attrs()\n",
    "    print(\"Attributes\", file_handler.attrs)\n",
    "\n",
    "    print(\"Keys\", file_handler.file.keys())\n",
    "    print(f\"Attribute Keys\", file_handler.file.attrs.keys())\n",
    "    group_handler = file_handler.get_group_handler(\n",
    "        f\"set_0\", n=50, erdos_c=4, gamma=16.0, sigma=0.01, alpha=0.0\n",
    "    )\n",
    "    group_handler.load_data()\n",
    "    print(group_handler.attrs)\n",
    "    print(group_handler.datasets)\n",
    "except Exception as e:\n",
    "    traceback.print_exc()\n",
    "    print(e)\n",
    "finally:\n",
    "    file_handler.close_file()"
   ]
  },
  {
   "cell_type": "code",
   "execution_count": 24,
   "metadata": {},
   "outputs": [
    {
     "name": "stdout",
     "output_type": "stream",
     "text": [
      "\n",
      "Save Data Function\n",
      "n: 40\n",
      "erdos_c: 4\n",
      "gamma: 15.0\n",
      "sigma: 2.0\n",
      "alpha: 1.0\n",
      "test: 100.0\n",
      "\n",
      "Save Data Function - post clear\n",
      "alpha: 1.0\n",
      "erdos_c: 4\n",
      "gamma: 15.0\n",
      "n: 40\n",
      "sigma: 2.0\n",
      "test: 100.0\n",
      "\n",
      "\n",
      "\n",
      "\n",
      "Save Data Function\n",
      "n: 40\n",
      "erdos_c: 4\n",
      "gamma: 15.0\n",
      "sigma: 2.0\n",
      "alpha: 1.0\n",
      "test: 100.0\n",
      "\n",
      "Save Data Function - post clear\n",
      "alpha: 1.0\n",
      "erdos_c: 4\n",
      "gamma: 15.0\n",
      "n: 40\n",
      "sigma: 2.0\n",
      "test: 100.0\n",
      "\n",
      "\n",
      "\n",
      "\n",
      "Save Data Function\n",
      "n: 40\n",
      "erdos_c: 4\n",
      "gamma: 15.0\n",
      "sigma: 2.0\n",
      "alpha: 1.0\n",
      "test: 100.0\n",
      "\n",
      "Save Data Function - post clear\n",
      "alpha: 1.0\n",
      "erdos_c: 4\n",
      "gamma: 15.0\n",
      "n: 40\n",
      "sigma: 2.0\n",
      "test: 100.0\n",
      "\n",
      "\n",
      "\n",
      "\n",
      "Save Data Function\n",
      "n: 40\n",
      "erdos_c: 4\n",
      "gamma: 15.0\n",
      "sigma: 2.0\n",
      "alpha: 1.0\n",
      "test: 100.0\n",
      "\n",
      "Save Data Function - post clear\n",
      "alpha: 1.0\n",
      "erdos_c: 4\n",
      "gamma: 15.0\n",
      "n: 40\n",
      "sigma: 2.0\n",
      "test: 100.0\n",
      "\n",
      "\n",
      "\n"
     ]
    }
   ],
   "source": [
    "# Manually Run file_io\n",
    "\n",
    "file_handler = file_io.HDF5FileHandler(\"./\", rho=1.0, p_thin=0.0)\n",
    "with file_handler:\n",
    "    for i in range(5):\n",
    "        if i > 3:\n",
    "            # file_handler.save_attrs()\n",
    "            # file_handler.close_file()\n",
    "            break\n",
    "        group_handler = file_handler.get_group_handler(f\"set_{i}\", n=40, erdos_c=4, gamma=15.0, sigma=2.0, alpha=1.0)\n",
    "        attributes = {\"test\": 100.0}\n",
    "        group_handler.add_attrs(**attributes)\n",
    "        group_handler.save_data()\n",
    "        group_handler.group.file.flush()\n",
    "    "
   ]
  },
  {
   "cell_type": "code",
   "execution_count": 21,
   "metadata": {},
   "outputs": [
    {
     "name": "stdout",
     "output_type": "stream",
     "text": [
      "set_0_n=40_erdos_c=4_gamma=15.0_sigma=2.0_alpha=1.0\n",
      "100.0\n",
      "set_1_n=40_erdos_c=4_gamma=15.0_sigma=2.0_alpha=1.0\n",
      "100.0\n",
      "set_2_n=40_erdos_c=4_gamma=15.0_sigma=2.0_alpha=1.0\n",
      "100.0\n",
      "set_3_n=40_erdos_c=4_gamma=15.0_sigma=2.0_alpha=1.0\n",
      "100.0\n"
     ]
    }
   ],
   "source": [
    "with h5py.File(\"_rho=1.0_p_thin=0.0.h5\", 'r') as file:\n",
    "    for group_name in file.keys():\n",
    "        print(group_name)\n",
    "        group = file[group_name]\n",
    "        print(group.attrs['test'])"
   ]
  },
  {
   "cell_type": "markdown",
   "metadata": {},
   "source": [
    "### Thinned Graph Structure"
   ]
  },
  {
   "cell_type": "code",
   "execution_count": 2,
   "metadata": {},
   "outputs": [],
   "source": [
    "def erdos(n, mean_degree):\n",
    "    \"\"\" Erdos-Renyi random graph.\n",
    "        Parameters\n",
    "            mean_degree (int): average edges per node. Must be an even integer\n",
    "            n (int): Number of nodes in the network\n",
    "        Returns\n",
    "            A (csc sparse matrix): Adjacency matrix of the network\n",
    "    \"\"\"\n",
    "    p = mean_degree/n\n",
    "    A = nx.adjacency_matrix(nx.erdos_renyi_graph(n,p)).T\n",
    "    return A"
   ]
  },
  {
   "cell_type": "code",
   "execution_count": 53,
   "metadata": {},
   "outputs": [
    {
     "name": "stdout",
     "output_type": "stream",
     "text": [
      "Number of strongly connected components: 448\n",
      "Sizes of SCCs: [1 2 3 5]\n"
     ]
    },
    {
     "data": {
      "text/plain": [
       "(array([409.,  30.,   9.]),\n",
       " array([1., 2., 3., 5.]),\n",
       " <BarContainer object of 3 artists>)"
      ]
     },
     "execution_count": 53,
     "metadata": {},
     "output_type": "execute_result"
    },
    {
     "data": {
      "image/png": "[encoded data removed]",
      "text/plain": [
       "<Figure size 2000x500 with 1 Axes>"
      ]
     },
     "metadata": {},
     "output_type": "display_data"
    }
   ],
   "source": [
    "erdos_c = 4\n",
    "p_thin = 0.95\n",
    "mean_degree = erdos_c*(1-p_thin)\n",
    "n = 500\n",
    "\n",
    "A = erdos(n, mean_degree)\n",
    "\n",
    "# Convert to a directed graph\n",
    "G = nx.from_numpy_array(A, create_using=nx.DiGraph)\n",
    "\n",
    "# Get all strongly connected components\n",
    "sccs = list(nx.strongly_connected_components(G))\n",
    "\n",
    "# Number of strongly connected components\n",
    "num_sccs = len(sccs)\n",
    "\n",
    "# Sizes of each SCC\n",
    "scc_sizes = [len(scc) for scc in sccs]\n",
    "\n",
    "print(f\"Number of strongly connected components: {num_sccs}\")\n",
    "print(f\"Sizes of SCCs: {np.unique(scc_sizes)}\")\n",
    "\n",
    "plt.hist(scc_sizes, np.unique(scc_sizes), log=True)\n",
    "# plt.hist(scc_sizes, [1,2,3,4,5])\n"
   ]
  }
 ],
 "metadata": {
  "kernelspec": {
   "display_name": "reservoir",
   "language": "python",
   "name": "python3"
  },
  "language_info": {
   "codemirror_mode": {
    "name": "ipython",
    "version": 3
   },
   "file_extension": ".py",
   "mimetype": "text/x-python",
   "name": "python",
   "nbconvert_exporter": "python",
   "pygments_lexer": "ipython3",
   "version": "3.13.5"
  }
 },
 "nbformat": 4,
 "nbformat_minor": 2
}
